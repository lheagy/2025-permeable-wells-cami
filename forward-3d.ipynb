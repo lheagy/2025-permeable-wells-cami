{
 "cells": [
  {
   "cell_type": "code",
   "execution_count": 1,
   "id": "05e6eecd-5765-404d-8d27-751b3bd52773",
   "metadata": {},
   "outputs": [],
   "source": [
    "import numpy as np\n",
    "import pandas as pd\n",
    "import discretize\n",
    "import matplotlib.pyplot as plt\n",
    "\n",
    "from simpeg.electromagnetics import time_domain as tdem"
   ]
  },
  {
   "cell_type": "code",
   "execution_count": 2,
   "id": "edcb693c-3220-4138-b874-705efae66318",
   "metadata": {},
   "outputs": [
    {
     "data": {
      "text/html": [
       "<div>\n",
       "<style scoped>\n",
       "    .dataframe tbody tr th:only-of-type {\n",
       "        vertical-align: middle;\n",
       "    }\n",
       "\n",
       "    .dataframe tbody tr th {\n",
       "        vertical-align: top;\n",
       "    }\n",
       "\n",
       "    .dataframe thead th {\n",
       "        text-align: right;\n",
       "    }\n",
       "</style>\n",
       "<table border=\"1\" class=\"dataframe\">\n",
       "  <thead>\n",
       "    <tr style=\"text-align: right;\">\n",
       "      <th></th>\n",
       "      <th>Station</th>\n",
       "      <th>Easting</th>\n",
       "      <th>Northing</th>\n",
       "      <th>Comp</th>\n",
       "      <th>Elev_ASTER</th>\n",
       "    </tr>\n",
       "  </thead>\n",
       "  <tbody>\n",
       "    <tr>\n",
       "      <th>0</th>\n",
       "      <td>100</td>\n",
       "      <td>420425</td>\n",
       "      <td>5589298</td>\n",
       "      <td>TX</td>\n",
       "      <td>773</td>\n",
       "    </tr>\n",
       "    <tr>\n",
       "      <th>1</th>\n",
       "      <td>200</td>\n",
       "      <td>420425</td>\n",
       "      <td>5589298</td>\n",
       "      <td>TX</td>\n",
       "      <td>773</td>\n",
       "    </tr>\n",
       "    <tr>\n",
       "      <th>2</th>\n",
       "      <td>300</td>\n",
       "      <td>420505</td>\n",
       "      <td>5589301</td>\n",
       "      <td>TX</td>\n",
       "      <td>774</td>\n",
       "    </tr>\n",
       "    <tr>\n",
       "      <th>3</th>\n",
       "      <td>301</td>\n",
       "      <td>420489</td>\n",
       "      <td>5589300</td>\n",
       "      <td>TX</td>\n",
       "      <td>773</td>\n",
       "    </tr>\n",
       "    <tr>\n",
       "      <th>4</th>\n",
       "      <td>302</td>\n",
       "      <td>420490</td>\n",
       "      <td>5589300</td>\n",
       "      <td>TX</td>\n",
       "      <td>773</td>\n",
       "    </tr>\n",
       "  </tbody>\n",
       "</table>\n",
       "</div>"
      ],
      "text/plain": [
       "   Station  Easting  Northing Comp  Elev_ASTER\n",
       "0      100   420425   5589298   TX         773\n",
       "1      200   420425   5589298   TX         773\n",
       "2      300   420505   5589301   TX         774\n",
       "3      301   420489   5589300   TX         773\n",
       "4      302   420490   5589300   TX         773"
      ]
     },
     "execution_count": 2,
     "metadata": {},
     "output_type": "execute_result"
    }
   ],
   "source": [
    "station_locs = pd.read_csv(\"StationLocations_NAD83.csv\", skiprows=5)\n",
    "station_locs.head()"
   ]
  },
  {
   "cell_type": "code",
   "execution_count": 3,
   "id": "a9e8a35b-2495-46ec-ad71-268134b4e117",
   "metadata": {},
   "outputs": [
    {
     "data": {
      "text/plain": [
       "array(['Ex1', 'Ex2', 'Ey1', 'Ey2', 'Hx1', 'Hx2', 'Hy1', 'Hy2', 'TX',\n",
       "       'ZEN'], dtype=object)"
      ]
     },
     "execution_count": 3,
     "metadata": {},
     "output_type": "execute_result"
    }
   ],
   "source": [
    "comps = np.unique(station_locs[\"Comp\"])\n",
    "comps"
   ]
  },
  {
   "cell_type": "code",
   "execution_count": 4,
   "id": "61b2ac05-4bfe-4ff9-af2a-c57698748f5f",
   "metadata": {},
   "outputs": [
    {
     "data": {
      "image/png": "[encoded data removed]",
      "text/plain": [
       "<Figure size 640x480 with 1 Axes>"
      ]
     },
     "metadata": {},
     "output_type": "display_data"
    }
   ],
   "source": [
    "fig, ax = plt.subplots(1, 1) \n",
    "\n",
    "for i, c in enumerate(comps): \n",
    "    inds = station_locs[\"Comp\"] == c\n",
    "    ax.plot(\n",
    "        station_locs[inds][\"Easting\"], station_locs[inds][\"Northing\"], f\"C{i}o\",\n",
    "        label=c\n",
    "    )\n",
    "    if c == \"TX\": \n",
    "        tx100 = station_locs[\"Station\"] == 100\n",
    "        ax.plot(\n",
    "            station_locs[tx100][\"Easting\"], station_locs[tx100][\"Northing\"], f\"k^\",\n",
    "            label=c\n",
    "        )\n",
    "        tx400 = station_locs[\"Station\"] == 400\n",
    "        ax.plot(\n",
    "            station_locs[tx400][\"Easting\"], station_locs[tx400][\"Northing\"], f\"kv\",\n",
    "            label=c\n",
    "        )\n",
    "    \n",
    "    ax.legend()\n",
    "\n",
    "ax.grid()\n",
    "ax.set_aspect(1)"
   ]
  },
  {
   "cell_type": "code",
   "execution_count": 5,
   "id": "2d2dae82-a88b-482f-93d9-b4f670655106",
   "metadata": {},
   "outputs": [],
   "source": [
    "tx100 = station_locs[station_locs[\"Station\"] == 100]\n",
    "tx400 = station_locs[station_locs[\"Station\"] == 400]"
   ]
  },
  {
   "cell_type": "code",
   "execution_count": 6,
   "id": "e75bf899-eed7-4113-9d87-d3fc89950729",
   "metadata": {},
   "outputs": [
    {
     "data": {
      "text/plain": [
       "array([50.99019514])"
      ]
     },
     "execution_count": 6,
     "metadata": {},
     "output_type": "execute_result"
    }
   ],
   "source": [
    "np.sqrt((tx400[\"Easting\"].values - tx100[\"Easting\"].values)**2 + (tx400[\"Northing\"].values - tx100[\"Northing\"].values)**2)"
   ]
  },
  {
   "cell_type": "code",
   "execution_count": 40,
   "id": "7b59887d-76a5-43b9-9a4d-8e74410dfec4",
   "metadata": {},
   "outputs": [],
   "source": [
    "# add injector well to data_frame. It is 20m from TX100 in same line as TX400\n",
    "dx = (tx400[\"Easting\"].values - tx100[\"Easting\"].values)\n",
    "dy = (tx400[\"Northing\"].values - tx100[\"Northing\"].values)\n",
    "\n",
    "theta = np.atan(dy/dx)\n",
    "\n",
    "distance = 20\n",
    "well_x = np.round(tx100[\"Easting\"].values + distance * np.cos(theta))\n",
    "well_y = np.round(tx100[\"Northing\"].values + distance * np.sin(theta))\n",
    "\n"
   ]
  },
  {
   "cell_type": "code",
   "execution_count": 41,
   "id": "25a03480-b13b-4635-b206-dff41c90ade1",
   "metadata": {},
   "outputs": [
    {
     "data": {
      "text/html": [
       "<div>\n",
       "<style scoped>\n",
       "    .dataframe tbody tr th:only-of-type {\n",
       "        vertical-align: middle;\n",
       "    }\n",
       "\n",
       "    .dataframe tbody tr th {\n",
       "        vertical-align: top;\n",
       "    }\n",
       "\n",
       "    .dataframe thead th {\n",
       "        text-align: right;\n",
       "    }\n",
       "</style>\n",
       "<table border=\"1\" class=\"dataframe\">\n",
       "  <thead>\n",
       "    <tr style=\"text-align: right;\">\n",
       "      <th></th>\n",
       "      <th>Station</th>\n",
       "      <th>Easting</th>\n",
       "      <th>Northing</th>\n",
       "      <th>Comp</th>\n",
       "      <th>Elev_ASTER</th>\n",
       "    </tr>\n",
       "  </thead>\n",
       "  <tbody>\n",
       "    <tr>\n",
       "      <th>0</th>\n",
       "      <td>100</td>\n",
       "      <td>420425</td>\n",
       "      <td>5589298</td>\n",
       "      <td>TX</td>\n",
       "      <td>773</td>\n",
       "    </tr>\n",
       "    <tr>\n",
       "      <th>1</th>\n",
       "      <td>200</td>\n",
       "      <td>420425</td>\n",
       "      <td>5589298</td>\n",
       "      <td>TX</td>\n",
       "      <td>773</td>\n",
       "    </tr>\n",
       "    <tr>\n",
       "      <th>2</th>\n",
       "      <td>300</td>\n",
       "      <td>420505</td>\n",
       "      <td>5589301</td>\n",
       "      <td>TX</td>\n",
       "      <td>774</td>\n",
       "    </tr>\n",
       "    <tr>\n",
       "      <th>3</th>\n",
       "      <td>301</td>\n",
       "      <td>420489</td>\n",
       "      <td>5589300</td>\n",
       "      <td>TX</td>\n",
       "      <td>773</td>\n",
       "    </tr>\n",
       "    <tr>\n",
       "      <th>4</th>\n",
       "      <td>302</td>\n",
       "      <td>420490</td>\n",
       "      <td>5589300</td>\n",
       "      <td>TX</td>\n",
       "      <td>773</td>\n",
       "    </tr>\n",
       "  </tbody>\n",
       "</table>\n",
       "</div>"
      ],
      "text/plain": [
       "   Station  Easting  Northing Comp  Elev_ASTER\n",
       "0      100   420425   5589298   TX         773\n",
       "1      200   420425   5589298   TX         773\n",
       "2      300   420505   5589301   TX         774\n",
       "3      301   420489   5589300   TX         773\n",
       "4      302   420490   5589300   TX         773"
      ]
     },
     "execution_count": 41,
     "metadata": {},
     "output_type": "execute_result"
    }
   ],
   "source": [
    "station_locs.head()"
   ]
  },
  {
   "cell_type": "code",
   "execution_count": 42,
   "id": "a8449c6e-7b69-4b38-8adb-35c7a5917771",
   "metadata": {},
   "outputs": [
    {
     "data": {
      "text/plain": [
       "np.int64(773)"
      ]
     },
     "execution_count": 42,
     "metadata": {},
     "output_type": "execute_result"
    }
   ],
   "source": [
    "tx100[\"Elev_ASTER\"].values[0] "
   ]
  },
  {
   "cell_type": "code",
   "execution_count": 50,
   "id": "2b25d1a8-ee10-4817-b2f0-d865ea8b4f36",
   "metadata": {},
   "outputs": [],
   "source": [
    "stations = pd.concat([\n",
    "    station_locs,\n",
    "    pd.DataFrame(\n",
    "        {\n",
    "            \"Station\": 1000,\n",
    "            \"Easting\": well_x,\n",
    "            \"Northing\": well_y, \n",
    "            \"Comp\":\"INJ\",\n",
    "            \"Elev_ASTER\": tx100[\"Elev_ASTER\"].values\n",
    "        }\n",
    "    ),\n",
    "], ignore_index=True)"
   ]
  },
  {
   "cell_type": "code",
   "execution_count": 51,
   "id": "55a7c2c4-0b54-42c8-a4c0-2f6c6f590eda",
   "metadata": {},
   "outputs": [
    {
     "data": {
      "text/plain": [
       "<bound method NDFrame.head of     Station   Easting   Northing Comp  Elev_ASTER\n",
       "0       100  420425.0  5589298.0   TX         773\n",
       "1       200  420425.0  5589298.0   TX         773\n",
       "2       300  420505.0  5589301.0   TX         774\n",
       "3       301  420489.0  5589300.0   TX         773\n",
       "4       302  420490.0  5589300.0   TX         773\n",
       "5       400  420459.0  5589336.0   TX         774\n",
       "6       401  420459.0  5589336.0   TX         774\n",
       "7       402  420223.0  5589604.0   TX         772\n",
       "8       500  420459.0  5589336.0   TX         774\n",
       "9       501  420643.0  5589348.0   TX         770\n",
       "10      502  420223.0  5589604.0   TX         772\n",
       "11        1  420698.0  5589474.0  Ex1         774\n",
       "12        1  420687.0  5589483.0  Ey1         775\n",
       "13        1  420688.0  5589475.0  Hx1         775\n",
       "14        1  420681.0  5589482.0  Hy1         776\n",
       "15        1  420697.0  5589494.0  Ex2         775\n",
       "16        1  420707.0  5589482.0  Ey2         773\n",
       "17        1  420688.0  5589475.0  Hx2         775\n",
       "18        1  420681.0  5589482.0  Hy2         776\n",
       "19        1  420698.0  5589483.0  ZEN         774\n",
       "20        2  420412.0  5589215.0  Ex1         774\n",
       "21        2  420401.0  5589226.0  Ey1         774\n",
       "22        2  420395.0  5589220.0  Hx1         774\n",
       "23        2  420409.0  5589201.0  Hy1         775\n",
       "24        2  420411.0  5589236.0  Ex2         774\n",
       "25        2  420421.0  5589225.0  Ey2         774\n",
       "26        2  420395.0  5589220.0  Hx2         774\n",
       "27        2  420409.0  5589201.0  Hy2         775\n",
       "28        2  420412.0  5589223.0  ZEN         774\n",
       "29        3  420543.0  5589128.0  Ex1         778\n",
       "30        3  420533.0  5589139.0  Ey1         777\n",
       "31        3  420553.0  5589121.0  Hx1         779\n",
       "32        3  420560.0  5589131.0  Hy1         778\n",
       "33        3  420543.0  5589149.0  Ex2         777\n",
       "34        3  420552.0  5589138.0  Ey2         778\n",
       "35        3  420553.0  5589121.0  Hx2         779\n",
       "36        3  420560.0  5589131.0  Hy2         778\n",
       "37        3  420543.0  5589138.0  ZEN         777\n",
       "38        4  420338.0  5589387.0  Ex1         775\n",
       "39        4  420325.0  5589396.0  Ey1         774\n",
       "40        4  420327.0  5589390.0  Hx1         774\n",
       "41        4  420322.0  5589384.0  Hy1         775\n",
       "42        4  420338.0  5589406.0  Ex2         774\n",
       "43        4  420347.0  5589396.0  Ey2         775\n",
       "44        4  420327.0  5589390.0  Hx2         774\n",
       "45        4  420322.0  5589384.0  Hy2         775\n",
       "46        4  420337.0  5589396.0  ZEN         775\n",
       "47     1000  420438.0  5589313.0  INJ         773>"
      ]
     },
     "execution_count": 51,
     "metadata": {},
     "output_type": "execute_result"
    }
   ],
   "source": [
    "stations.head"
   ]
  },
  {
   "cell_type": "code",
   "execution_count": 53,
   "id": "30bc6823-b5c1-471e-a6a3-64f24596ac86",
   "metadata": {},
   "outputs": [
    {
     "data": {
      "image/png": "[encoded data removed]",
      "text/plain": [
       "<Figure size 640x480 with 1 Axes>"
      ]
     },
     "metadata": {},
     "output_type": "display_data"
    }
   ],
   "source": [
    "fig, ax = plt.subplots(1, 1) \n",
    "\n",
    "for i, c in enumerate(np.unique(stations[\"Comp\"])): \n",
    "    inds = stations[\"Comp\"] == c\n",
    "    ax.plot(\n",
    "        stations[inds][\"Easting\"], stations[inds][\"Northing\"], f\"C{i}o\",\n",
    "        label=c\n",
    "    )\n",
    "    # if c == \"TX\": \n",
    "    #     tx100 = station_locs[\"Station\"] == 100\n",
    "    #     ax.plot(\n",
    "    #         station_locs[tx100][\"Easting\"], station_locs[tx100][\"Northing\"], f\"k^\",\n",
    "    #         label=c\n",
    "    #     )\n",
    "    #     tx400 = station_locs[\"Station\"] == 400\n",
    "    #     ax.plot(\n",
    "    #         station_locs[tx400][\"Easting\"], station_locs[tx400][\"Northing\"], f\"kv\",\n",
    "    #         label=c\n",
    "    #     )\n",
    "    \n",
    "    ax.legend()\n",
    "\n",
    "ax.grid()\n",
    "ax.set_aspect(1)"
   ]
  },
  {
   "cell_type": "code",
   "execution_count": null,
   "id": "7a6cb780-a090-4c3f-b567-abfbf024033a",
   "metadata": {},
   "outputs": [],
   "source": []
  }
 ],
 "metadata": {
  "kernelspec": {
   "display_name": "Python 3 (ipykernel)",
   "language": "python",
   "name": "python3"
  },
  "language_info": {
   "codemirror_mode": {
    "name": "ipython",
    "version": 3
   },
   "file_extension": ".py",
   "mimetype": "text/x-python",
   "name": "python",
   "nbconvert_exporter": "python",
   "pygments_lexer": "ipython3",
   "version": "3.11.11"
  }
 },
 "nbformat": 4,
 "nbformat_minor": 5
}
