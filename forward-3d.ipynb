{
 "cells": [
  {
   "cell_type": "code",
   "execution_count": 1,
   "id": "05e6eecd-5765-404d-8d27-751b3bd52773",
   "metadata": {},
   "outputs": [],
   "source": [
    "import numpy as np\n",
    "import pandas as pd\n",
    "import discretize\n",
    "import matplotlib.pyplot as plt\n",
    "from matplotlib.colors import Normalize, LogNorm\n",
    "from scipy.constants import mu_0\n",
    "\n",
    "import time\n",
    "\n",
    "from simpeg.electromagnetics import time_domain as tdem\n",
    "from simpeg import maps, utils"
   ]
  },
  {
   "cell_type": "code",
   "execution_count": 2,
   "id": "2c161bcc-e314-4e46-919a-e348a9d715fa",
   "metadata": {},
   "outputs": [
    {
     "data": {
      "text/plain": [
       "pymatsolver.direct.pardiso.Pardiso"
      ]
     },
     "execution_count": 2,
     "metadata": {},
     "output_type": "execute_result"
    }
   ],
   "source": [
    "Solver = utils.solver_utils.get_default_solver()\n",
    "Solver"
   ]
  },
  {
   "cell_type": "code",
   "execution_count": 3,
   "id": "edcb693c-3220-4138-b874-705efae66318",
   "metadata": {},
   "outputs": [
    {
     "data": {
      "text/html": [
       "<div>\n",
       "<style scoped>\n",
       "    .dataframe tbody tr th:only-of-type {\n",
       "        vertical-align: middle;\n",
       "    }\n",
       "\n",
       "    .dataframe tbody tr th {\n",
       "        vertical-align: top;\n",
       "    }\n",
       "\n",
       "    .dataframe thead th {\n",
       "        text-align: right;\n",
       "    }\n",
       "</style>\n",
       "<table border=\"1\" class=\"dataframe\">\n",
       "  <thead>\n",
       "    <tr style=\"text-align: right;\">\n",
       "      <th></th>\n",
       "      <th>Station</th>\n",
       "      <th>Easting</th>\n",
       "      <th>Northing</th>\n",
       "      <th>Comp</th>\n",
       "      <th>Elev_ASTER</th>\n",
       "    </tr>\n",
       "  </thead>\n",
       "  <tbody>\n",
       "    <tr>\n",
       "      <th>0</th>\n",
       "      <td>100</td>\n",
       "      <td>420425</td>\n",
       "      <td>5589298</td>\n",
       "      <td>TX</td>\n",
       "      <td>773</td>\n",
       "    </tr>\n",
       "    <tr>\n",
       "      <th>1</th>\n",
       "      <td>200</td>\n",
       "      <td>420425</td>\n",
       "      <td>5589298</td>\n",
       "      <td>TX</td>\n",
       "      <td>773</td>\n",
       "    </tr>\n",
       "    <tr>\n",
       "      <th>2</th>\n",
       "      <td>300</td>\n",
       "      <td>420505</td>\n",
       "      <td>5589301</td>\n",
       "      <td>TX</td>\n",
       "      <td>774</td>\n",
       "    </tr>\n",
       "    <tr>\n",
       "      <th>3</th>\n",
       "      <td>301</td>\n",
       "      <td>420489</td>\n",
       "      <td>5589300</td>\n",
       "      <td>TX</td>\n",
       "      <td>773</td>\n",
       "    </tr>\n",
       "    <tr>\n",
       "      <th>4</th>\n",
       "      <td>302</td>\n",
       "      <td>420490</td>\n",
       "      <td>5589300</td>\n",
       "      <td>TX</td>\n",
       "      <td>773</td>\n",
       "    </tr>\n",
       "  </tbody>\n",
       "</table>\n",
       "</div>"
      ],
      "text/plain": [
       "   Station  Easting  Northing Comp  Elev_ASTER\n",
       "0      100   420425   5589298   TX         773\n",
       "1      200   420425   5589298   TX         773\n",
       "2      300   420505   5589301   TX         774\n",
       "3      301   420489   5589300   TX         773\n",
       "4      302   420490   5589300   TX         773"
      ]
     },
     "execution_count": 3,
     "metadata": {},
     "output_type": "execute_result"
    }
   ],
   "source": [
    "station_locs = pd.read_csv(\"StationLocations_NAD83.csv\", skiprows=5)\n",
    "station_locs.head()"
   ]
  },
  {
   "cell_type": "code",
   "execution_count": 4,
   "id": "a9e8a35b-2495-46ec-ad71-268134b4e117",
   "metadata": {},
   "outputs": [
    {
     "data": {
      "text/plain": [
       "array(['Ex1', 'Ex2', 'Ey1', 'Ey2', 'Hx1', 'Hx2', 'Hy1', 'Hy2', 'TX',\n",
       "       'ZEN'], dtype=object)"
      ]
     },
     "execution_count": 4,
     "metadata": {},
     "output_type": "execute_result"
    }
   ],
   "source": [
    "comps = np.unique(station_locs[\"Comp\"])\n",
    "comps"
   ]
  },
  {
   "cell_type": "code",
   "execution_count": 5,
   "id": "61b2ac05-4bfe-4ff9-af2a-c57698748f5f",
   "metadata": {},
   "outputs": [
    {
     "data": {
      "image/png": "[encoded data removed]",
      "text/plain": [
       "<Figure size 640x480 with 1 Axes>"
      ]
     },
     "metadata": {},
     "output_type": "display_data"
    }
   ],
   "source": [
    "fig, ax = plt.subplots(1, 1) \n",
    "\n",
    "for i, c in enumerate(comps): \n",
    "    inds = station_locs[\"Comp\"] == c\n",
    "    ax.plot(\n",
    "        station_locs[inds][\"Easting\"], station_locs[inds][\"Northing\"], f\"C{i}o\",\n",
    "        label=c\n",
    "    )\n",
    "    if c == \"TX\": \n",
    "        tx100 = station_locs[\"Station\"] == 100\n",
    "        ax.plot(\n",
    "            station_locs[tx100][\"Easting\"], station_locs[tx100][\"Northing\"], f\"k^\",\n",
    "            label=c\n",
    "        )\n",
    "        tx400 = station_locs[\"Station\"] == 400\n",
    "        ax.plot(\n",
    "            station_locs[tx400][\"Easting\"], station_locs[tx400][\"Northing\"], f\"kv\",\n",
    "            label=c\n",
    "        )\n",
    "    \n",
    "    ax.legend()\n",
    "\n",
    "ax.grid()\n",
    "ax.set_aspect(1)"
   ]
  },
  {
   "cell_type": "code",
   "execution_count": 6,
   "id": "2d2dae82-a88b-482f-93d9-b4f670655106",
   "metadata": {},
   "outputs": [],
   "source": [
    "tx100 = station_locs[station_locs[\"Station\"] == 100]\n",
    "tx400 = station_locs[station_locs[\"Station\"] == 400]"
   ]
  },
  {
   "cell_type": "code",
   "execution_count": 7,
   "id": "e75bf899-eed7-4113-9d87-d3fc89950729",
   "metadata": {},
   "outputs": [
    {
     "data": {
      "text/plain": [
       "array([50.99019514])"
      ]
     },
     "execution_count": 7,
     "metadata": {},
     "output_type": "execute_result"
    }
   ],
   "source": [
    "np.sqrt((tx400[\"Easting\"].values - tx100[\"Easting\"].values)**2 + (tx400[\"Northing\"].values - tx100[\"Northing\"].values)**2)"
   ]
  },
  {
   "cell_type": "code",
   "execution_count": 8,
   "id": "7b59887d-76a5-43b9-9a4d-8e74410dfec4",
   "metadata": {},
   "outputs": [],
   "source": [
    "# add injector well to data_frame. It is 20m from TX100 in same line as TX400\n",
    "dx = (tx400[\"Easting\"].values - tx100[\"Easting\"].values)\n",
    "dy = (tx400[\"Northing\"].values - tx100[\"Northing\"].values)\n",
    "\n",
    "theta = np.atan(dy/dx)\n",
    "\n",
    "distance = 20\n",
    "well_x = np.round(tx100[\"Easting\"].values + distance * np.cos(theta))\n",
    "well_y = np.round(tx100[\"Northing\"].values + distance * np.sin(theta))\n",
    "\n"
   ]
  },
  {
   "cell_type": "code",
   "execution_count": 9,
   "id": "25a03480-b13b-4635-b206-dff41c90ade1",
   "metadata": {},
   "outputs": [
    {
     "data": {
      "text/html": [
       "<div>\n",
       "<style scoped>\n",
       "    .dataframe tbody tr th:only-of-type {\n",
       "        vertical-align: middle;\n",
       "    }\n",
       "\n",
       "    .dataframe tbody tr th {\n",
       "        vertical-align: top;\n",
       "    }\n",
       "\n",
       "    .dataframe thead th {\n",
       "        text-align: right;\n",
       "    }\n",
       "</style>\n",
       "<table border=\"1\" class=\"dataframe\">\n",
       "  <thead>\n",
       "    <tr style=\"text-align: right;\">\n",
       "      <th></th>\n",
       "      <th>Station</th>\n",
       "      <th>Easting</th>\n",
       "      <th>Northing</th>\n",
       "      <th>Comp</th>\n",
       "      <th>Elev_ASTER</th>\n",
       "    </tr>\n",
       "  </thead>\n",
       "  <tbody>\n",
       "    <tr>\n",
       "      <th>0</th>\n",
       "      <td>100</td>\n",
       "      <td>420425</td>\n",
       "      <td>5589298</td>\n",
       "      <td>TX</td>\n",
       "      <td>773</td>\n",
       "    </tr>\n",
       "    <tr>\n",
       "      <th>1</th>\n",
       "      <td>200</td>\n",
       "      <td>420425</td>\n",
       "      <td>5589298</td>\n",
       "      <td>TX</td>\n",
       "      <td>773</td>\n",
       "    </tr>\n",
       "    <tr>\n",
       "      <th>2</th>\n",
       "      <td>300</td>\n",
       "      <td>420505</td>\n",
       "      <td>5589301</td>\n",
       "      <td>TX</td>\n",
       "      <td>774</td>\n",
       "    </tr>\n",
       "    <tr>\n",
       "      <th>3</th>\n",
       "      <td>301</td>\n",
       "      <td>420489</td>\n",
       "      <td>5589300</td>\n",
       "      <td>TX</td>\n",
       "      <td>773</td>\n",
       "    </tr>\n",
       "    <tr>\n",
       "      <th>4</th>\n",
       "      <td>302</td>\n",
       "      <td>420490</td>\n",
       "      <td>5589300</td>\n",
       "      <td>TX</td>\n",
       "      <td>773</td>\n",
       "    </tr>\n",
       "  </tbody>\n",
       "</table>\n",
       "</div>"
      ],
      "text/plain": [
       "   Station  Easting  Northing Comp  Elev_ASTER\n",
       "0      100   420425   5589298   TX         773\n",
       "1      200   420425   5589298   TX         773\n",
       "2      300   420505   5589301   TX         774\n",
       "3      301   420489   5589300   TX         773\n",
       "4      302   420490   5589300   TX         773"
      ]
     },
     "execution_count": 9,
     "metadata": {},
     "output_type": "execute_result"
    }
   ],
   "source": [
    "station_locs.head()"
   ]
  },
  {
   "cell_type": "code",
   "execution_count": 10,
   "id": "a8449c6e-7b69-4b38-8adb-35c7a5917771",
   "metadata": {},
   "outputs": [
    {
     "data": {
      "text/plain": [
       "np.int64(773)"
      ]
     },
     "execution_count": 10,
     "metadata": {},
     "output_type": "execute_result"
    }
   ],
   "source": [
    "tx100[\"Elev_ASTER\"].values[0] "
   ]
  },
  {
   "cell_type": "code",
   "execution_count": 11,
   "id": "2b25d1a8-ee10-4817-b2f0-d865ea8b4f36",
   "metadata": {},
   "outputs": [],
   "source": [
    "stations = pd.concat([\n",
    "    station_locs,\n",
    "    pd.DataFrame(\n",
    "        {\n",
    "            \"Station\": 1000,\n",
    "            \"Easting\": well_x,\n",
    "            \"Northing\": well_y, \n",
    "            \"Comp\":\"INJ\",\n",
    "            \"Elev_ASTER\": tx100[\"Elev_ASTER\"].values\n",
    "        }\n",
    "    ),\n",
    "], ignore_index=True)"
   ]
  },
  {
   "cell_type": "code",
   "execution_count": 12,
   "id": "55a7c2c4-0b54-42c8-a4c0-2f6c6f590eda",
   "metadata": {},
   "outputs": [
    {
     "data": {
      "text/plain": [
       "<bound method NDFrame.head of     Station   Easting   Northing Comp  Elev_ASTER\n",
       "0       100  420425.0  5589298.0   TX         773\n",
       "1       200  420425.0  5589298.0   TX         773\n",
       "2       300  420505.0  5589301.0   TX         774\n",
       "3       301  420489.0  5589300.0   TX         773\n",
       "4       302  420490.0  5589300.0   TX         773\n",
       "5       400  420459.0  5589336.0   TX         774\n",
       "6       401  420459.0  5589336.0   TX         774\n",
       "7       402  420223.0  5589604.0   TX         772\n",
       "8       500  420459.0  5589336.0   TX         774\n",
       "9       501  420643.0  5589348.0   TX         770\n",
       "10      502  420223.0  5589604.0   TX         772\n",
       "11        1  420698.0  5589474.0  Ex1         774\n",
       "12        1  420687.0  5589483.0  Ey1         775\n",
       "13        1  420688.0  5589475.0  Hx1         775\n",
       "14        1  420681.0  5589482.0  Hy1         776\n",
       "15        1  420697.0  5589494.0  Ex2         775\n",
       "16        1  420707.0  5589482.0  Ey2         773\n",
       "17        1  420688.0  5589475.0  Hx2         775\n",
       "18        1  420681.0  5589482.0  Hy2         776\n",
       "19        1  420698.0  5589483.0  ZEN         774\n",
       "20        2  420412.0  5589215.0  Ex1         774\n",
       "21        2  420401.0  5589226.0  Ey1         774\n",
       "22        2  420395.0  5589220.0  Hx1         774\n",
       "23        2  420409.0  5589201.0  Hy1         775\n",
       "24        2  420411.0  5589236.0  Ex2         774\n",
       "25        2  420421.0  5589225.0  Ey2         774\n",
       "26        2  420395.0  5589220.0  Hx2         774\n",
       "27        2  420409.0  5589201.0  Hy2         775\n",
       "28        2  420412.0  5589223.0  ZEN         774\n",
       "29        3  420543.0  5589128.0  Ex1         778\n",
       "30        3  420533.0  5589139.0  Ey1         777\n",
       "31        3  420553.0  5589121.0  Hx1         779\n",
       "32        3  420560.0  5589131.0  Hy1         778\n",
       "33        3  420543.0  5589149.0  Ex2         777\n",
       "34        3  420552.0  5589138.0  Ey2         778\n",
       "35        3  420553.0  5589121.0  Hx2         779\n",
       "36        3  420560.0  5589131.0  Hy2         778\n",
       "37        3  420543.0  5589138.0  ZEN         777\n",
       "38        4  420338.0  5589387.0  Ex1         775\n",
       "39        4  420325.0  5589396.0  Ey1         774\n",
       "40        4  420327.0  5589390.0  Hx1         774\n",
       "41        4  420322.0  5589384.0  Hy1         775\n",
       "42        4  420338.0  5589406.0  Ex2         774\n",
       "43        4  420347.0  5589396.0  Ey2         775\n",
       "44        4  420327.0  5589390.0  Hx2         774\n",
       "45        4  420322.0  5589384.0  Hy2         775\n",
       "46        4  420337.0  5589396.0  ZEN         775\n",
       "47     1000  420438.0  5589313.0  INJ         773>"
      ]
     },
     "execution_count": 12,
     "metadata": {},
     "output_type": "execute_result"
    }
   ],
   "source": [
    "stations.head"
   ]
  },
  {
   "cell_type": "code",
   "execution_count": 13,
   "id": "30bc6823-b5c1-471e-a6a3-64f24596ac86",
   "metadata": {},
   "outputs": [
    {
     "data": {
      "image/png": "[encoded data removed]",
      "text/plain": [
       "<Figure size 640x480 with 1 Axes>"
      ]
     },
     "metadata": {},
     "output_type": "display_data"
    }
   ],
   "source": [
    "fig, ax = plt.subplots(1, 1) \n",
    "\n",
    "for i, c in enumerate(np.unique(stations[\"Comp\"])): \n",
    "    inds = stations[\"Comp\"] == c\n",
    "    ax.plot(\n",
    "        stations[inds][\"Easting\"], stations[inds][\"Northing\"], f\"C{i}o\",\n",
    "        label=c\n",
    "    )\n",
    "    \n",
    "    ax.legend()\n",
    "\n",
    "ax.grid()\n",
    "ax.set_aspect(1)"
   ]
  },
  {
   "cell_type": "code",
   "execution_count": 14,
   "id": "59ebf630-ddc7-4f22-a932-1187c41b76ec",
   "metadata": {},
   "outputs": [],
   "source": [
    "origin_x = stations[stations[\"Comp\"] == \"INJ\"][\"Easting\"]\n",
    "origin_y = stations[stations[\"Comp\"] == \"INJ\"][\"Northing\"]"
   ]
  },
  {
   "cell_type": "code",
   "execution_count": 15,
   "id": "ab5a0b60-45c9-43fa-8540-5fc4e1485f30",
   "metadata": {},
   "outputs": [],
   "source": [
    "stations[\"local_x\"] = stations[\"Easting\"] - origin_x.values\n",
    "stations[\"local_y\"] = stations[\"Northing\"] - origin_y.values"
   ]
  },
  {
   "cell_type": "code",
   "execution_count": 16,
   "id": "ef62bc96-30bb-4ca2-a6f8-e104f492feab",
   "metadata": {},
   "outputs": [
    {
     "data": {
      "image/png": "[encoded data removed]",
      "text/plain": [
       "<Figure size 640x480 with 1 Axes>"
      ]
     },
     "metadata": {},
     "output_type": "display_data"
    }
   ],
   "source": [
    "fig, ax = plt.subplots(1, 1) \n",
    "\n",
    "for i, c in enumerate(np.unique(stations[\"Comp\"])): \n",
    "    inds = stations[\"Comp\"] == c\n",
    "    ax.plot(\n",
    "        stations[inds][\"local_x\"], stations[inds][\"local_y\"], f\"C{i}o\",\n",
    "        label=c\n",
    "    )\n",
    "    \n",
    "    ax.legend()\n",
    "\n",
    "ax.grid()\n",
    "ax.set_aspect(1)"
   ]
  },
  {
   "cell_type": "markdown",
   "id": "0f4b9204-6b37-4d63-9e10-8fa8f4501d7c",
   "metadata": {},
   "source": [
    "apply rotation for given source (make source a straight line) "
   ]
  },
  {
   "cell_type": "code",
   "execution_count": 17,
   "id": "2ec73ece-3340-4d58-870f-4ea6e4369e23",
   "metadata": {},
   "outputs": [],
   "source": [
    "# theta = -45*np.pi/180\n",
    "# stations[\"rotated_x\"] = stations[\"local_x\"] * np.cos(theta) + stations[\"local_y\"] * np.sin(theta)\n",
    "# stations[\"rotated_y\"] = -stations[\"local_x\"] * np.sin(theta) + stations[\"local_y\"] * np.cos(theta)"
   ]
  },
  {
   "cell_type": "code",
   "execution_count": 18,
   "id": "b1209476-3210-4fe8-8401-e7af2c2ca781",
   "metadata": {},
   "outputs": [],
   "source": [
    "# fig, ax = plt.subplots(1, 1) \n",
    "\n",
    "# for i, c in enumerate(np.unique(stations[\"Comp\"])): \n",
    "#     inds = stations[\"Comp\"] == c\n",
    "#     ax.plot(\n",
    "#         stations[inds][\"rotated_x\"], stations[inds][\"rotated_y\"], f\"C{i}o\",\n",
    "#         label=c\n",
    "#     )\n",
    "    \n",
    "#     ax.legend()\n",
    "\n",
    "# ax.grid()\n",
    "# ax.set_aspect(1)"
   ]
  },
  {
   "cell_type": "markdown",
   "id": "213057a0-749c-4714-b36d-2059add5f80e",
   "metadata": {},
   "source": [
    "wellbores are: \n",
    "- TX 300 : surface casing to ~30m\n",
    "- TX 100 : surface casing to ~60m \n",
    "- TX 400 : cased to 350m\n",
    "- INJ : cased to ~350? "
   ]
  },
  {
   "cell_type": "code",
   "execution_count": 19,
   "id": "7a6cb780-a090-4c3f-b567-abfbf024033a",
   "metadata": {},
   "outputs": [],
   "source": [
    "wellbores = stations[(\n",
    "    stations[\"Station\"].isin([100, 300, 400]) | (stations[\"Comp\"] == \"INJ\")\n",
    ")]"
   ]
  },
  {
   "cell_type": "code",
   "execution_count": 20,
   "id": "724f5e4f-76be-42a6-b090-a261ffb1e86d",
   "metadata": {},
   "outputs": [
    {
     "data": {
      "text/html": [
       "<div>\n",
       "<style scoped>\n",
       "    .dataframe tbody tr th:only-of-type {\n",
       "        vertical-align: middle;\n",
       "    }\n",
       "\n",
       "    .dataframe tbody tr th {\n",
       "        vertical-align: top;\n",
       "    }\n",
       "\n",
       "    .dataframe thead th {\n",
       "        text-align: right;\n",
       "    }\n",
       "</style>\n",
       "<table border=\"1\" class=\"dataframe\">\n",
       "  <thead>\n",
       "    <tr style=\"text-align: right;\">\n",
       "      <th></th>\n",
       "      <th>Station</th>\n",
       "      <th>Easting</th>\n",
       "      <th>Northing</th>\n",
       "      <th>Comp</th>\n",
       "      <th>Elev_ASTER</th>\n",
       "      <th>local_x</th>\n",
       "      <th>local_y</th>\n",
       "    </tr>\n",
       "  </thead>\n",
       "  <tbody>\n",
       "    <tr>\n",
       "      <th>0</th>\n",
       "      <td>100</td>\n",
       "      <td>420425.0</td>\n",
       "      <td>5589298.0</td>\n",
       "      <td>TX</td>\n",
       "      <td>773</td>\n",
       "      <td>-13.0</td>\n",
       "      <td>-15.0</td>\n",
       "    </tr>\n",
       "    <tr>\n",
       "      <th>2</th>\n",
       "      <td>300</td>\n",
       "      <td>420505.0</td>\n",
       "      <td>5589301.0</td>\n",
       "      <td>TX</td>\n",
       "      <td>774</td>\n",
       "      <td>67.0</td>\n",
       "      <td>-12.0</td>\n",
       "    </tr>\n",
       "    <tr>\n",
       "      <th>5</th>\n",
       "      <td>400</td>\n",
       "      <td>420459.0</td>\n",
       "      <td>5589336.0</td>\n",
       "      <td>TX</td>\n",
       "      <td>774</td>\n",
       "      <td>21.0</td>\n",
       "      <td>23.0</td>\n",
       "    </tr>\n",
       "    <tr>\n",
       "      <th>47</th>\n",
       "      <td>1000</td>\n",
       "      <td>420438.0</td>\n",
       "      <td>5589313.0</td>\n",
       "      <td>INJ</td>\n",
       "      <td>773</td>\n",
       "      <td>0.0</td>\n",
       "      <td>0.0</td>\n",
       "    </tr>\n",
       "  </tbody>\n",
       "</table>\n",
       "</div>"
      ],
      "text/plain": [
       "    Station   Easting   Northing Comp  Elev_ASTER  local_x  local_y\n",
       "0       100  420425.0  5589298.0   TX         773    -13.0    -15.0\n",
       "2       300  420505.0  5589301.0   TX         774     67.0    -12.0\n",
       "5       400  420459.0  5589336.0   TX         774     21.0     23.0\n",
       "47     1000  420438.0  5589313.0  INJ         773      0.0      0.0"
      ]
     },
     "execution_count": 20,
     "metadata": {},
     "output_type": "execute_result"
    }
   ],
   "source": [
    "wellbores"
   ]
  },
  {
   "cell_type": "code",
   "execution_count": 21,
   "id": "6a43e9f3-b379-4594-a22c-618887b54b06",
   "metadata": {},
   "outputs": [
    {
     "name": "stderr",
     "output_type": "stream",
     "text": [
      "/tmp/ipykernel_3462152/2786228961.py:1: SettingWithCopyWarning: \n",
      "A value is trying to be set on a copy of a slice from a DataFrame.\n",
      "Try using .loc[row_indexer,col_indexer] = value instead\n",
      "\n",
      "See the caveats in the documentation: https://pandas.pydata.org/pandas-docs/stable/user_guide/indexing.html#returning-a-view-versus-a-copy\n",
      "  wellbores.loc[:, \"Length\"] = [30, 60, 350, 350]\n"
     ]
    },
    {
     "data": {
      "text/html": [
       "<div>\n",
       "<style scoped>\n",
       "    .dataframe tbody tr th:only-of-type {\n",
       "        vertical-align: middle;\n",
       "    }\n",
       "\n",
       "    .dataframe tbody tr th {\n",
       "        vertical-align: top;\n",
       "    }\n",
       "\n",
       "    .dataframe thead th {\n",
       "        text-align: right;\n",
       "    }\n",
       "</style>\n",
       "<table border=\"1\" class=\"dataframe\">\n",
       "  <thead>\n",
       "    <tr style=\"text-align: right;\">\n",
       "      <th></th>\n",
       "      <th>Station</th>\n",
       "      <th>Easting</th>\n",
       "      <th>Northing</th>\n",
       "      <th>Comp</th>\n",
       "      <th>Elev_ASTER</th>\n",
       "      <th>local_x</th>\n",
       "      <th>local_y</th>\n",
       "      <th>Length</th>\n",
       "    </tr>\n",
       "  </thead>\n",
       "  <tbody>\n",
       "    <tr>\n",
       "      <th>0</th>\n",
       "      <td>100</td>\n",
       "      <td>420425.0</td>\n",
       "      <td>5589298.0</td>\n",
       "      <td>TX</td>\n",
       "      <td>773</td>\n",
       "      <td>-13.0</td>\n",
       "      <td>-15.0</td>\n",
       "      <td>30</td>\n",
       "    </tr>\n",
       "    <tr>\n",
       "      <th>2</th>\n",
       "      <td>300</td>\n",
       "      <td>420505.0</td>\n",
       "      <td>5589301.0</td>\n",
       "      <td>TX</td>\n",
       "      <td>774</td>\n",
       "      <td>67.0</td>\n",
       "      <td>-12.0</td>\n",
       "      <td>60</td>\n",
       "    </tr>\n",
       "    <tr>\n",
       "      <th>5</th>\n",
       "      <td>400</td>\n",
       "      <td>420459.0</td>\n",
       "      <td>5589336.0</td>\n",
       "      <td>TX</td>\n",
       "      <td>774</td>\n",
       "      <td>21.0</td>\n",
       "      <td>23.0</td>\n",
       "      <td>350</td>\n",
       "    </tr>\n",
       "    <tr>\n",
       "      <th>47</th>\n",
       "      <td>1000</td>\n",
       "      <td>420438.0</td>\n",
       "      <td>5589313.0</td>\n",
       "      <td>INJ</td>\n",
       "      <td>773</td>\n",
       "      <td>0.0</td>\n",
       "      <td>0.0</td>\n",
       "      <td>350</td>\n",
       "    </tr>\n",
       "  </tbody>\n",
       "</table>\n",
       "</div>"
      ],
      "text/plain": [
       "    Station   Easting   Northing Comp  Elev_ASTER  local_x  local_y  Length\n",
       "0       100  420425.0  5589298.0   TX         773    -13.0    -15.0      30\n",
       "2       300  420505.0  5589301.0   TX         774     67.0    -12.0      60\n",
       "5       400  420459.0  5589336.0   TX         774     21.0     23.0     350\n",
       "47     1000  420438.0  5589313.0  INJ         773      0.0      0.0     350"
      ]
     },
     "execution_count": 21,
     "metadata": {},
     "output_type": "execute_result"
    }
   ],
   "source": [
    "wellbores.loc[:, \"Length\"] = [30, 60, 350, 350]\n",
    "wellbores"
   ]
  },
  {
   "cell_type": "markdown",
   "id": "371ac4ba-c922-44db-85d2-6f7ace9ed60e",
   "metadata": {},
   "source": [
    "design an OcTree mesh, centerd on the Injection well that includes each of the wellbores. "
   ]
  },
  {
   "cell_type": "code",
   "execution_count": 22,
   "id": "c1313e9f-2d8f-4b52-8cfd-f2dcc7eac63c",
   "metadata": {},
   "outputs": [],
   "source": [
    "stationsE = pd.concat([stations[stations[\"Comp\"] == c] for c in [\"Ex1\", \"Ex2\", \"Ey1\", \"Ey2\"]])"
   ]
  },
  {
   "cell_type": "code",
   "execution_count": 23,
   "id": "e8d9d738-adc4-42e2-ba0d-091fb30d2cd0",
   "metadata": {},
   "outputs": [
    {
     "data": {
      "text/plain": [
       "array([ 259.25,  -26.75,  104.75, -101.  ])"
      ]
     },
     "execution_count": 23,
     "metadata": {},
     "output_type": "execute_result"
    }
   ],
   "source": [
    "stations_x = np.array([stationsE[stationsE[\"Station\"]==i][\"local_x\"].mean() for i in np.arange(1, 5)] )\n",
    "stations_x"
   ]
  },
  {
   "cell_type": "code",
   "execution_count": 24,
   "id": "bef077a2-b9c1-453f-8bb2-464019e67434",
   "metadata": {},
   "outputs": [
    {
     "data": {
      "text/plain": [
       "array([ 170.25,  -87.5 , -174.5 ,   83.25])"
      ]
     },
     "execution_count": 24,
     "metadata": {},
     "output_type": "execute_result"
    }
   ],
   "source": [
    "stations_y = np.array([stationsE[stationsE[\"Station\"]==i][\"local_y\"].mean() for i in np.arange(1, 5)] )\n",
    "stations_y"
   ]
  },
  {
   "cell_type": "code",
   "execution_count": 25,
   "id": "c65f5a76-a688-4b87-8e01-e0136f0aa8da",
   "metadata": {},
   "outputs": [],
   "source": [
    "transmitters = stations[stations[\"Comp\"] == \"TX\"]\n",
    "transmitters = pd.concat([\n",
    "    transmitters[transmitters[\"Station\"] == i] for i in [300, 301, 400, 401]\n",
    "])"
   ]
  },
  {
   "cell_type": "code",
   "execution_count": 26,
   "id": "42ee22af-a6ed-4509-97a6-a5ab835dc071",
   "metadata": {},
   "outputs": [
    {
     "data": {
      "text/html": [
       "<div>\n",
       "<style scoped>\n",
       "    .dataframe tbody tr th:only-of-type {\n",
       "        vertical-align: middle;\n",
       "    }\n",
       "\n",
       "    .dataframe tbody tr th {\n",
       "        vertical-align: top;\n",
       "    }\n",
       "\n",
       "    .dataframe thead th {\n",
       "        text-align: right;\n",
       "    }\n",
       "</style>\n",
       "<table border=\"1\" class=\"dataframe\">\n",
       "  <thead>\n",
       "    <tr style=\"text-align: right;\">\n",
       "      <th></th>\n",
       "      <th>Station</th>\n",
       "      <th>Easting</th>\n",
       "      <th>Northing</th>\n",
       "      <th>Comp</th>\n",
       "      <th>Elev_ASTER</th>\n",
       "      <th>local_x</th>\n",
       "      <th>local_y</th>\n",
       "    </tr>\n",
       "  </thead>\n",
       "  <tbody>\n",
       "    <tr>\n",
       "      <th>2</th>\n",
       "      <td>300</td>\n",
       "      <td>420505.0</td>\n",
       "      <td>5589301.0</td>\n",
       "      <td>TX</td>\n",
       "      <td>774</td>\n",
       "      <td>67.0</td>\n",
       "      <td>-12.0</td>\n",
       "    </tr>\n",
       "    <tr>\n",
       "      <th>3</th>\n",
       "      <td>301</td>\n",
       "      <td>420489.0</td>\n",
       "      <td>5589300.0</td>\n",
       "      <td>TX</td>\n",
       "      <td>773</td>\n",
       "      <td>51.0</td>\n",
       "      <td>-13.0</td>\n",
       "    </tr>\n",
       "    <tr>\n",
       "      <th>5</th>\n",
       "      <td>400</td>\n",
       "      <td>420459.0</td>\n",
       "      <td>5589336.0</td>\n",
       "      <td>TX</td>\n",
       "      <td>774</td>\n",
       "      <td>21.0</td>\n",
       "      <td>23.0</td>\n",
       "    </tr>\n",
       "    <tr>\n",
       "      <th>6</th>\n",
       "      <td>401</td>\n",
       "      <td>420459.0</td>\n",
       "      <td>5589336.0</td>\n",
       "      <td>TX</td>\n",
       "      <td>774</td>\n",
       "      <td>21.0</td>\n",
       "      <td>23.0</td>\n",
       "    </tr>\n",
       "  </tbody>\n",
       "</table>\n",
       "</div>"
      ],
      "text/plain": [
       "   Station   Easting   Northing Comp  Elev_ASTER  local_x  local_y\n",
       "2      300  420505.0  5589301.0   TX         774     67.0    -12.0\n",
       "3      301  420489.0  5589300.0   TX         773     51.0    -13.0\n",
       "5      400  420459.0  5589336.0   TX         774     21.0     23.0\n",
       "6      401  420459.0  5589336.0   TX         774     21.0     23.0"
      ]
     },
     "execution_count": 26,
     "metadata": {},
     "output_type": "execute_result"
    }
   ],
   "source": [
    "transmitters"
   ]
  },
  {
   "cell_type": "code",
   "execution_count": 27,
   "id": "0e6bb707-3fc5-4758-8f32-31c282c09349",
   "metadata": {},
   "outputs": [],
   "source": [
    "rx_locs = np.vstack([\n",
    "    stations_x, stations_y, np.zeros_like(stations_x)\n",
    "]).T"
   ]
  },
  {
   "cell_type": "code",
   "execution_count": 28,
   "id": "cd8b8119-3777-4d1f-a643-f6f8775824a1",
   "metadata": {},
   "outputs": [],
   "source": [
    "cs = 0.25 \n",
    "extent = 4000 \n",
    "\n",
    "n_cells = 2 ** np.ceil(np.log2(extent/cs))\n",
    "h = cs * np.ones(int(n_cells))\n",
    "mesh = discretize.TreeMesh(\n",
    "    [h, h, h], origin=\"CCC\", diagonal_balance=True\n",
    ")\n",
    "\n",
    "# # refine survey area\n",
    "# mesh.refine_bounding_box(\n",
    "#     np.vstack([\n",
    "#         stations[\"local_x\"], \n",
    "#         stations[\"local_y\"],\n",
    "#         np.zeros(stations.shape[0])\n",
    "#     ]).T, level=7,\n",
    "#     diagonal_balance=True, finalize=False\n",
    "# )\n",
    "\n",
    "# refine around receivers \n",
    "mesh.refine_points(\n",
    "    rx_locs, \n",
    "    level=-2,\n",
    "    padding_cells_by_level=[4, 2, 2], \n",
    "    diagonal_balance=True,\n",
    "    finalize=False\n",
    ")\n",
    "\n",
    "# refine transmitter line\n",
    "st300 = transmitters[transmitters[\"Station\"] == 300]\n",
    "st301 = transmitters[transmitters[\"Station\"] == 301]\n",
    "st400 = stations[(stations[\"Station\"] == 400) | (stations[\"Station\"] == 401) | (stations[\"Station\"] == 402)]\n",
    "\n",
    "mesh.refine_line(\n",
    "    np.vstack([\n",
    "        np.r_[st300[\"local_x\"], st301[\"local_x\"]],\n",
    "        np.r_[st300[\"local_y\"], st301[\"local_y\"]],\n",
    "        np.r_[0, 0]\n",
    "    ]).T, \n",
    "    levels=[-2], \n",
    "    finalize=False, \n",
    "    diagonal_balance=True\n",
    ")\n",
    "\n",
    "mesh.refine_line(\n",
    "    np.vstack([\n",
    "        st400[\"local_x\"], st400[\"local_y\"], np.r_[-wellbores[wellbores[\"Station\"] == 400][\"Length\"], 0, 0],\n",
    "    ]).T, \n",
    "    levels=[-2, -2], \n",
    "    finalize=False, \n",
    "    diagonal_balance=True\n",
    ")\n",
    "\n",
    "\n",
    "\n",
    "# refine around wellbores\n",
    "# tmp = {}\n",
    "for index, row in wellbores.iterrows():\n",
    "    \n",
    "    z = np.linspace(-row[\"Length\"], 0, int(row[\"Length\"]/cs))\n",
    "    x = row[\"local_x\"] * np.ones_like(z)\n",
    "    y = row[\"local_y\"] * np.ones_like(z)\n",
    "\n",
    "    mesh.refine_points(\n",
    "        np.vstack([x, y, z]).T, \n",
    "        level=-1,\n",
    "        padding_cells_by_level=[4, 2], \n",
    "        diagonal_balance=True,\n",
    "        finalize=False\n",
    "    )\n",
    "\n",
    "\n",
    "mesh.finalize()\n",
    "    "
   ]
  },
  {
   "cell_type": "code",
   "execution_count": 29,
   "id": "d20970ef-7c48-4781-9100-1fc2ded5d955",
   "metadata": {},
   "outputs": [
    {
     "data": {
      "text/html": [
       "<table>\n",
       "<tr>\n",
       "<td style='font-weight: bold; font-size: 1.2em; text-align: center;'>OcTreeMesh</td>\n",
       "<td style='font-size: 1.2em; text-align: center;' colspan='2'>0.00% filled</td>\n",
       "</tr>\n",
       "<tr>\n",
       "<td>\n",
       "<table>\n",
       "<tr>\n",
       "<th style='padding: 5px 20px 5px 20px;'>Level</th>\n",
       "<th style='padding: 5px 20px 5px 20px;'>Number of cells</th>\n",
       "</tr>\n",
       "<tr>\n",
       "<td style='padding: 5px 20px 5px 20px;'>3</td>\n",
       "<td style='padding: 5px 20px 5px 20px;'>448</td>\n",
       "</tr>\n",
       "<tr>\n",
       "<td style='padding: 5px 20px 5px 20px;'>4</td>\n",
       "<td style='padding: 5px 20px 5px 20px;'>414</td>\n",
       "</tr>\n",
       "<tr>\n",
       "<td style='padding: 5px 20px 5px 20px;'>5</td>\n",
       "<td style='padding: 5px 20px 5px 20px;'>630</td>\n",
       "</tr>\n",
       "<tr>\n",
       "<td style='padding: 5px 20px 5px 20px;'>6</td>\n",
       "<td style='padding: 5px 20px 5px 20px;'>952</td>\n",
       "</tr>\n",
       "<tr>\n",
       "<td style='padding: 5px 20px 5px 20px;'>7</td>\n",
       "<td style='padding: 5px 20px 5px 20px;'>1770</td>\n",
       "</tr>\n",
       "<tr>\n",
       "<td style='padding: 5px 20px 5px 20px;'>8</td>\n",
       "<td style='padding: 5px 20px 5px 20px;'>2822</td>\n",
       "</tr>\n",
       "<tr>\n",
       "<td style='padding: 5px 20px 5px 20px;'>9</td>\n",
       "<td style='padding: 5px 20px 5px 20px;'>5662</td>\n",
       "</tr>\n",
       "<tr>\n",
       "<td style='padding: 5px 20px 5px 20px;'>10</td>\n",
       "<td style='padding: 5px 20px 5px 20px;'>11168</td>\n",
       "</tr>\n",
       "<tr>\n",
       "<td style='padding: 5px 20px 5px 20px;'>11</td>\n",
       "<td style='padding: 5px 20px 5px 20px;'>22120</td>\n",
       "</tr>\n",
       "<tr>\n",
       "<td style='padding: 5px 20px 5px 20px;'>12</td>\n",
       "<td style='padding: 5px 20px 5px 20px;'>37144</td>\n",
       "</tr>\n",
       "<tr>\n",
       "<td style='padding: 5px 20px 5px 20px;'>13</td>\n",
       "<td style='padding: 5px 20px 5px 20px;'>88448</td>\n",
       "</tr>\n",
       "<tr>\n",
       "<td style='padding: 5px 20px 5px 20px;'>14</td>\n",
       "<td style='padding: 5px 20px 5px 20px;'>204288</td>\n",
       "</tr>\n",
       "<tr>\n",
       "<td style='font-weight: bold; padding: 5px 20px 5px 20px;'> Total </td>\n",
       "<td style='padding: 5px 20px 5px 20px;'> 375866 </td>\n",
       "</tr>\n",
       "</table>\n",
       "</td>\n",
       "<td>\n",
       "<table>\n",
       "<tr>\n",
       "<th></th>\n",
       "<th style='padding: 5px 20px 5px 20px;' colspan='2'>Mesh extent</th>\n",
       "<th style='padding: 5px 20px 5px 20px;' colspan='2'>Cell widths</th>\n",
       "</tr>\n",
       "<tr>\n",
       "<th></th>\n",
       "<th style='padding: 5px 20px 5px 20px;'>min</th>\n",
       "<th style='padding: 5px 20px 5px 20px;'>max</th>\n",
       "<th style='padding: 5px 20px 5px 20px;'>min</th>\n",
       "<th style='padding: 5px 20px 5px 20px;'>max</th>\n",
       "</tr>\n",
       "<tr>\n",
       "<td style='padding: 5px 20px 5px 20px;'>x</td>\n",
       "<td style='padding: 5px 20px 5px 20px;'>-2048.0</td>\n",
       "<td style='padding: 5px 20px 5px 20px;'>2048.0</td>\n",
       "<td style='padding: 5px 20px 5px 20px;'>0.25</td>\n",
       "<td style='padding: 5px 20px 5px 20px;'>512.0</td>\n",
       "</tr>\n",
       "<tr>\n",
       "<td style='padding: 5px 20px 5px 20px;'>y</td>\n",
       "<td style='padding: 5px 20px 5px 20px;'>-2048.0</td>\n",
       "<td style='padding: 5px 20px 5px 20px;'>2048.0</td>\n",
       "<td style='padding: 5px 20px 5px 20px;'>0.25</td>\n",
       "<td style='padding: 5px 20px 5px 20px;'>512.0</td>\n",
       "</tr>\n",
       "<tr>\n",
       "<td style='padding: 5px 20px 5px 20px;'>z</td>\n",
       "<td style='padding: 5px 20px 5px 20px;'>-2048.0</td>\n",
       "<td style='padding: 5px 20px 5px 20px;'>2048.0</td>\n",
       "<td style='padding: 5px 20px 5px 20px;'>0.25</td>\n",
       "<td style='padding: 5px 20px 5px 20px;'>512.0</td>\n",
       "</tr>\n",
       "</table>\n",
       "</td>\n",
       "</tr>\n",
       "</table>\n"
      ],
      "text/plain": [
       "\n",
       "OcTreeMesh: 0.00% filled\n",
       "\n",
       "Level : Number of cells               Mesh Extent               Cell Widths    \n",
       "-----------------------           min     ,     max            min   ,   max   \n",
       "  3   :       448            ---------------------------   --------------------\n",
       "  4   :       414         x:    -2048.0   ,   2048.0          0.25   ,   512.0   \n",
       "  5   :       630         y:    -2048.0   ,   2048.0          0.25   ,   512.0   \n",
       "  6   :       952         z:    -2048.0   ,   2048.0          0.25   ,   512.0   \n",
       "  7   :      1770      \n",
       "  8   :      2822      \n",
       "  9   :      5662      \n",
       " 10   :      11168     \n",
       " 11   :      22120     \n",
       " 12   :      37144     \n",
       " 13   :      88448     \n",
       " 14   :     204288     \n",
       "-----------------------\n",
       "Total :     375866     "
      ]
     },
     "execution_count": 29,
     "metadata": {},
     "output_type": "execute_result"
    }
   ],
   "source": [
    "mesh"
   ]
  },
  {
   "cell_type": "code",
   "execution_count": 30,
   "id": "96956504-e37b-4a4e-b812-7ef6ef7003c4",
   "metadata": {},
   "outputs": [
    {
     "data": {
      "text/plain": [
       "(-500.0, 500.0)"
      ]
     },
     "execution_count": 30,
     "metadata": {},
     "output_type": "execute_result"
    },
    {
     "data": {
      "image/png": "[encoded data removed]",
      "text/plain": [
       "<Figure size 640x480 with 1 Axes>"
      ]
     },
     "metadata": {},
     "output_type": "display_data"
    }
   ],
   "source": [
    "fig, ax = plt.subplots(1, 1)\n",
    "mesh.plot_slice(\n",
    "    np.log10(mesh.cell_volumes),\n",
    "    normal=\"Z\",\n",
    "    grid_opts={\"color\":\"k\", \"lw\":0.5},\n",
    "    ax=ax\n",
    ")\n",
    "ax.set_xlim(np.r_[-1, 1]*500)\n",
    "ax.set_ylim(np.r_[-1, 1]*500)"
   ]
  },
  {
   "cell_type": "markdown",
   "id": "f4c46f9d-7757-45b2-ad92-329ffbfbc932",
   "metadata": {},
   "source": [
    "# define physical properties"
   ]
  },
  {
   "cell_type": "code",
   "execution_count": 31,
   "id": "74bbba27-f335-4535-9da3-12cd93c2f853",
   "metadata": {},
   "outputs": [],
   "source": [
    "# approximate values for casing \n",
    "sigma_steel = 5e6\n",
    "casing_b = 5e-2\n",
    "casing_a = 4e-2\n",
    "cross_sectional_area = np.pi * (casing_b**2 - casing_a**2)\n",
    "\n"
   ]
  },
  {
   "cell_type": "code",
   "execution_count": 32,
   "id": "733bdd00-4511-4aa9-baa4-ae3c8496a946",
   "metadata": {},
   "outputs": [],
   "source": [
    "sigma_air = 1e-4\n",
    "sigma_back = 1e-1  # 10 Ohm m "
   ]
  },
  {
   "cell_type": "code",
   "execution_count": 34,
   "id": "327286f2-e197-4ae9-8908-88d38f72e567",
   "metadata": {},
   "outputs": [
    {
     "data": {
      "text/plain": [
       "np.float64(3534.291735288519)"
      ]
     },
     "execution_count": 34,
     "metadata": {},
     "output_type": "execute_result"
    }
   ],
   "source": [
    "casing_n_cells = 8\n",
    "casing_approx_width = mesh.h[0].min() * casing_n_cells\n",
    "casing_approx_width\n",
    "\n",
    "sigma_casing_approx = sigma_steel * cross_sectional_area / casing_approx_width**2\n",
    "sigma_casing_approx"
   ]
  },
  {
   "cell_type": "code",
   "execution_count": 35,
   "id": "8588b9e5-8b5c-4a0e-bacc-11ec7f66dbfb",
   "metadata": {},
   "outputs": [],
   "source": [
    "mur_casing_approx = 20"
   ]
  },
  {
   "cell_type": "code",
   "execution_count": 36,
   "id": "205f9868-ad71-49df-b40a-cd5e8276174b",
   "metadata": {},
   "outputs": [],
   "source": [
    "models = {}\n",
    "\n",
    "# create the models \n",
    "halfspace = np.ones(mesh.n_cells) * sigma_back\n",
    "halfspace[mesh.cell_centers[:, 2] > 0] = sigma_air\n",
    "mur_halfspace = np.ones(mesh.n_cells)\n",
    "\n",
    "models[\"halfspace\"] = {\n",
    "    \"sigma\": halfspace,\n",
    "    \"mur\": mur_halfspace,\n",
    "}\n",
    "\n",
    "# conductive casing \n",
    "casing = halfspace.copy()\n",
    "mur_casing = mur_halfspace.copy()\n",
    "\n",
    "for index, row in wellbores.iterrows():\n",
    "    inds_casing = (\n",
    "        (mesh.cell_centers[:, 0] < row[\"local_x\"] + casing_approx_width/2) & \n",
    "        (mesh.cell_centers[:, 0] > row[\"local_x\"] - casing_approx_width/2) & \n",
    "        (mesh.cell_centers[:, 1] < row[\"local_y\"] + casing_approx_width/2) & \n",
    "        (mesh.cell_centers[:, 1] > row[\"local_y\"] - casing_approx_width/2) &\n",
    "        (mesh.cell_centers[:, 2] < 0) & \n",
    "        (mesh.cell_centers[:, 2] > -row[\"Length\"])\n",
    "    )\n",
    "    casing[inds_casing] = sigma_casing_approx\n",
    "    mur_casing[inds_casing] = mur_casing_approx\n",
    "\n",
    "models[\"conductive_casing\"] = {\n",
    "    \"sigma\": casing, \n",
    "    \"mur\": mur_halfspace, \n",
    "}\n",
    "\n",
    "models[\"permeble_casing\"] = {\n",
    "    \"sigma\": casing, \n",
    "    \"mur\": mur_casing\n",
    "}"
   ]
  },
  {
   "cell_type": "code",
   "execution_count": 39,
   "id": "867de058-aed9-4e5c-aebb-c844c561a83a",
   "metadata": {},
   "outputs": [
    {
     "data": {
      "text/plain": [
       "(-5.0, 5.0)"
      ]
     },
     "execution_count": 39,
     "metadata": {},
     "output_type": "execute_result"
    },
    {
     "data": {
      "image/png": "[encoded data removed]",
      "text/plain": [
       "<Figure size 640x480 with 2 Axes>"
      ]
     },
     "metadata": {},
     "output_type": "display_data"
    }
   ],
   "source": [
    "fig, ax = plt.subplots(1, 1)\n",
    "plt.colorbar(mesh.plot_slice(\n",
    "    models[\"conductive_casing\"][\"sigma\"],\n",
    "    normal=\"Z\",\n",
    "    ind=8191,\n",
    "    # ind=16383,\n",
    "    grid_opts={\"color\":\"k\", \"lw\":0.5},\n",
    "    pcolor_opts={\"norm\":LogNorm()},\n",
    "    ax=ax\n",
    ")[0], ax=ax) \n",
    "             \n",
    "ax.set_xlim(np.r_[-1, 1]*5)\n",
    "ax.set_ylim(np.r_[-1, 1]*5)"
   ]
  },
  {
   "cell_type": "code",
   "execution_count": 40,
   "id": "41f7a02e-47e7-415b-8f31-1415cac2b707",
   "metadata": {},
   "outputs": [
    {
     "data": {
      "text/plain": [
       "dict_keys(['halfspace', 'conductive_casing', 'permeble_casing'])"
      ]
     },
     "execution_count": 40,
     "metadata": {},
     "output_type": "execute_result"
    }
   ],
   "source": [
    "models.keys()"
   ]
  },
  {
   "cell_type": "code",
   "execution_count": null,
   "id": "23d361d7-596e-459d-a3b4-07c1ecef4116",
   "metadata": {},
   "outputs": [],
   "source": []
  },
  {
   "cell_type": "code",
   "execution_count": 41,
   "id": "65f920df-f520-41b7-a980-4d626c104d31",
   "metadata": {},
   "outputs": [],
   "source": [
    "time_steps = [\n",
    "    (1e-6, 20),\n",
    "    (3e-6, 20),\n",
    "    (1e-5, 20), \n",
    "    (3e-5, 20), \n",
    "    (1e-4, 20), \n",
    "    (3e-4, 20),\n",
    "    (1e-3, 20), \n",
    "    (3e-3, 20),\n",
    "    (1e-2, 20), \n",
    "    (3e-2, 25),\n",
    "    # (1e-1, 6), \n",
    "]"
   ]
  },
  {
   "cell_type": "code",
   "execution_count": 42,
   "id": "0dd74a60-e402-4cb6-bd95-c24e10c19c4e",
   "metadata": {},
   "outputs": [
    {
     "data": {
      "text/plain": [
       "np.float64(1.0388800000000002)"
      ]
     },
     "execution_count": 42,
     "metadata": {},
     "output_type": "execute_result"
    }
   ],
   "source": [
    "np.sum(discretize.utils.unpack_widths(time_steps))"
   ]
  },
  {
   "cell_type": "code",
   "execution_count": 43,
   "id": "4437fea7-3027-465e-b820-0f93536eff1c",
   "metadata": {},
   "outputs": [],
   "source": [
    "rx_times = np.logspace(-5, 0, 50)"
   ]
  },
  {
   "cell_type": "code",
   "execution_count": 44,
   "id": "fd70cc0b-ba70-4b01-b5be-53a5635afa54",
   "metadata": {},
   "outputs": [],
   "source": [
    "rx_locs = np.vstack([stations_x, stations_y, np.zeros_like(stations_x)]).T\n",
    "rx_list = [\n",
    "    tdem.receivers.PointElectricField(\n",
    "        locations=rx_locs, \n",
    "        orientation=\"x\",\n",
    "        times=rx_times\n",
    "    ),\n",
    "    tdem.receivers.PointElectricField(\n",
    "        locations=rx_locs, \n",
    "        orientation=\"y\",\n",
    "        times=rx_times\n",
    "    )\n",
    "]"
   ]
  },
  {
   "cell_type": "code",
   "execution_count": 45,
   "id": "be0aba5a-247c-4af0-8223-7bc67c4e5942",
   "metadata": {},
   "outputs": [],
   "source": [
    "st300 = stations[(stations[\"Station\"] == 300) | (stations[\"Station\"] == 301)]"
   ]
  },
  {
   "cell_type": "code",
   "execution_count": 46,
   "id": "6d1193d1-88bb-4059-b5c6-e935b6839d42",
   "metadata": {},
   "outputs": [],
   "source": [
    "st400 = stations[(stations[\"Station\"] == 400) | (stations[\"Station\"] == 401) | (stations[\"Station\"] == 402)]"
   ]
  },
  {
   "cell_type": "code",
   "execution_count": 47,
   "id": "344af799-7495-4cfe-ac37-4e5fc74ce1b1",
   "metadata": {},
   "outputs": [],
   "source": [
    "src_list = [\n",
    "    tdem.sources.LineCurrent(\n",
    "        receiver_list = rx_list, \n",
    "        location = np.vstack([\n",
    "            st300[\"local_x\"], st300[\"local_y\"], np.zeros(st300.shape[0]),\n",
    "        ]).T\n",
    "    ),\n",
    "    tdem.sources.LineCurrent(\n",
    "        receiver_list = rx_list, \n",
    "        location = np.vstack([\n",
    "            st400[\"local_x\"], st400[\"local_y\"], np.r_[-wellbores[wellbores[\"Station\"] == 400][\"Length\"], 0, 0],\n",
    "        ]).T\n",
    "    ),\n",
    "]"
   ]
  },
  {
   "cell_type": "code",
   "execution_count": 48,
   "id": "d943558a-39e8-4583-b538-c996a36a95fa",
   "metadata": {},
   "outputs": [],
   "source": [
    "survey = tdem.Survey(src_list)"
   ]
  },
  {
   "cell_type": "code",
   "execution_count": 49,
   "id": "18135456-becd-4134-a49d-28f6163f6f07",
   "metadata": {},
   "outputs": [],
   "source": [
    "sim = tdem.Simulation3DElectricField(\n",
    "    mesh=mesh, \n",
    "    survey=survey, \n",
    "    solver=Solver, \n",
    "    solver_opts={\"is_symmetric\":True, \"is_positive_definite\":True},\n",
    "    time_steps=time_steps,\n",
    "    # verbose=True,\n",
    "    sigmaMap=maps.IdentityMap(mesh), \n",
    ")"
   ]
  },
  {
   "cell_type": "code",
   "execution_count": 50,
   "id": "f6a52a1a-c6c8-40c5-8ae1-73c6729b7f8a",
   "metadata": {},
   "outputs": [],
   "source": [
    "directory = \"/t40array/lheagy/cami-simulations-3d\""
   ]
  },
  {
   "cell_type": "code",
   "execution_count": null,
   "id": "7b112397-d986-452d-92e4-933f5065a9c5",
   "metadata": {},
   "outputs": [
    {
     "name": "stdout",
     "output_type": "stream",
     "text": [
      "Starting  halfspace\n"
     ]
    },
    {
     "name": "stderr",
     "output_type": "stream",
     "text": [
      "/home/lheagy/miniforge3/envs/py311/lib/python3.11/site-packages/simpeg/electromagnetics/utils/current_utils.py:144: UserWarning: Warning! Line path crosses a cell level change.\n",
      "  return _poly_line_source_tree(mesh, locs)\n"
     ]
    },
    {
     "name": "stdout",
     "output_type": "stream",
     "text": [
      " ... done. 5.34e+02s\n",
      "Starting  conductive_casing\n"
     ]
    }
   ],
   "source": [
    "fields_dict = {}\n",
    "dpred_dict = {}\n",
    "\n",
    "for key in models.keys(): \n",
    "    print(f\"Starting  {key}\")\n",
    "    t0 = time.time()\n",
    "    sim.mu = mu_0 * models[key][\"mur\"]\n",
    "    fields = sim.fields(models[key][\"sigma\"])\n",
    "    np.save(f\"{directory}/fields_{key}.npy\", fields[:, \"e\"])\n",
    "    fields_dict[key] = fields\n",
    "    \n",
    "    dpred = sim.make_synthetic_data(models[key][\"sigma\"], f=fields_dict[key])\n",
    "    np.save(f\"{directory}/dpred_{key}.npy\", dpred.dobs)\n",
    "    dpred_dict[key] = dpred\n",
    "    print(f\" ... done. {time.time()-t0:1.2e}s\")"
   ]
  },
  {
   "cell_type": "code",
   "execution_count": null,
   "id": "15cfc07c-1ac6-4be6-a872-d8c9f64e7726",
   "metadata": {},
   "outputs": [],
   "source": [
    "dpred_dict[key]"
   ]
  },
  {
   "cell_type": "code",
   "execution_count": null,
   "id": "79264d18-80a8-4c80-b216-a9bdb1c58894",
   "metadata": {},
   "outputs": [],
   "source": [
    "rx_locs"
   ]
  },
  {
   "cell_type": "code",
   "execution_count": null,
   "id": "d3707a99-881b-4776-a594-f00077a363cd",
   "metadata": {},
   "outputs": [],
   "source": [
    "fig, ax = plt.subplots(2, 1, sharex=True)\n",
    "src = src_list[0]\n",
    "rx_plot = 1\n",
    "\n",
    "for i, key in enumerate(models.keys()):\n",
    "    for j, rx in enumerate(src.receiver_list): \n",
    "        ax[j].loglog(\n",
    "            rx_times*1e3, \n",
    "            np.abs(dpred_dict[key][src, rx]).reshape(len(rx_times), len(rx_locs))[:, rx_plot], \n",
    "            label=key, color=f\"C{i}\", ls=\"-\"\n",
    "        )\n",
    "\n",
    "ax[0].legend()\n",
    "ax[1].set_xlabel(\"time (ms)\")\n",
    "ax[1].set_xlim(1e-1, 1e3)\n",
    "for a in ax:\n",
    "    a.grid()"
   ]
  },
  {
   "cell_type": "code",
   "execution_count": null,
   "id": "f40d4ff1-4ca3-4b71-a9ab-34bbe3a938b8",
   "metadata": {},
   "outputs": [],
   "source": [
    "# plot the fields: e.g. Ex component and Ey component at the surface for each scenario "
   ]
  }
 ],
 "metadata": {
  "kernelspec": {
   "display_name": "Python 3 (ipykernel)",
   "language": "python",
   "name": "python3"
  },
  "language_info": {
   "codemirror_mode": {
    "name": "ipython",
    "version": 3
   },
   "file_extension": ".py",
   "mimetype": "text/x-python",
   "name": "python",
   "nbconvert_exporter": "python",
   "pygments_lexer": "ipython3",
   "version": "3.11.11"
  }
 },
 "nbformat": 4,
 "nbformat_minor": 5
}
