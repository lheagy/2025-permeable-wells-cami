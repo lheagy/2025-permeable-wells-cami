{
 "cells": [
  {
   "cell_type": "code",
   "execution_count": null,
   "id": "2de84739-840a-43aa-93b7-fe3298352994",
   "metadata": {},
   "outputs": [],
   "source": [
    "import numpy as np\n",
    "import matplotlib.pyplot as plt\n",
    "from matplotlib.colors import Normalize, LogNorm\n",
    "from scipy.constants import mu_0\n",
    "import discretize\n",
    "import time\n",
    "\n",
    "from simpeg import maps\n",
    "from simpeg.electromagnetics import time_domain as tdem\n",
    "\n",
    "import casing_utils"
   ]
  },
  {
   "cell_type": "code",
   "execution_count": null,
   "id": "79a8c0b2-6aee-4945-8d7d-1885a2f5c165",
   "metadata": {},
   "outputs": [],
   "source": [
    "sigma_back = 1e-1\n",
    "sigma_air = 1e-4\n",
    "\n",
    "target_r = 1\n",
    "target_l = 50\n",
    "\n",
    "sigma_target = 1e5\n",
    "mur_target = 10"
   ]
  },
  {
   "cell_type": "code",
   "execution_count": null,
   "id": "5bb5db17-e5fe-444f-97ea-8d1492a338e2",
   "metadata": {},
   "outputs": [],
   "source": [
    "rx_x = np.arange(1, 101)[1::2]\n",
    "rx_x"
   ]
  },
  {
   "cell_type": "code",
   "execution_count": null,
   "id": "cae06e93-ff4b-4b0a-9a83-c12c8b185b88",
   "metadata": {},
   "outputs": [],
   "source": [
    "src_z = np.r_[-70, -60]"
   ]
  },
  {
   "cell_type": "code",
   "execution_count": null,
   "id": "86b2dc86-e8ca-4fca-b666-f6a0a007937e",
   "metadata": {},
   "outputs": [],
   "source": [
    "n_cells = [8, 4, 2, 1]"
   ]
  },
  {
   "cell_type": "code",
   "execution_count": null,
   "id": "0401a928-a195-4a3c-ba8e-597fde96a844",
   "metadata": {},
   "outputs": [],
   "source": [
    "meshes = {}\n",
    "\n",
    "pf = 1.3\n",
    "\n",
    "csz = 1\n",
    "npadz = 25\n",
    "n_core_z = int(np.max(np.abs(src_z))/csz)\n",
    "hz = discretize.utils.unpack_widths([(csz, npadz, -pf), (csz, n_core_z), (csz, npadz, pf)])\n",
    "\n",
    "npadx = npadz\n",
    "\n",
    "for n in n_cells: \n",
    "    hx = casing_utils.pad_for_casing_and_data(\n",
    "        target_r, \n",
    "        csx1=target_r/n,\n",
    "        csx2=csz, \n",
    "        pfx1=pf, \n",
    "        pfx2=pf, \n",
    "        domain_x=np.max(rx_x), \n",
    "        npadx=npadx\n",
    "    )\n",
    "    meshes[n] = discretize.CylindricalMesh(\n",
    "        [hx, [np.pi*2], hz], origin=np.r_[0, 0, -np.sum(hz[:npadz+n_core_z])]\n",
    "    )"
   ]
  },
  {
   "cell_type": "code",
   "execution_count": null,
   "id": "fe5bd79f-e21c-48a9-8df5-43394ca35878",
   "metadata": {},
   "outputs": [],
   "source": [
    "meshes[8].plot_grid()"
   ]
  },
  {
   "cell_type": "code",
   "execution_count": null,
   "id": "447478a2-92f4-411c-8e07-c54edf75ed98",
   "metadata": {},
   "outputs": [],
   "source": [
    "models = {}\n",
    "\n",
    "for n in n_cells: \n",
    "    mesh = meshes[n]\n",
    "    \n",
    "    sigma = np.ones(mesh.n_cells) * sigma_air\n",
    "    sigma[mesh.cell_centers[:, 2] < 0] = sigma_back\n",
    "\n",
    "    inds_target = (\n",
    "        (mesh.cell_centers[:, 0] < target_r) &\n",
    "        (mesh.cell_centers[:, 2] < 0) & \n",
    "        (mesh.cell_centers[:, 2] > -target_l)\n",
    "    )\n",
    "    sigma[inds_target] = sigma_target\n",
    "\n",
    "    mur = np.ones(mesh.n_cells) \n",
    "    mur[inds_target] = mur_target\n",
    "\n",
    "    models[n] = {\n",
    "        \"sigma\":sigma,\n",
    "        \"mur\": mur\n",
    "    }"
   ]
  },
  {
   "cell_type": "code",
   "execution_count": null,
   "id": "6dce06c9-5ccb-430d-b0a9-af5bdc03c083",
   "metadata": {},
   "outputs": [],
   "source": [
    "n_plot = n_cells[0]\n",
    "\n",
    "fig, ax = plt.subplots(1, 2)\n",
    "\n",
    "mesh = meshes[n_plot]\n",
    "model = models[n_plot]\n",
    "\n",
    "plt.colorbar(mesh.plot_image(\n",
    "    model[\"sigma\"],\n",
    "    pcolor_opts={\"norm\":LogNorm()},\n",
    "    mirror=True,\n",
    "    ax=ax[0],\n",
    "    \n",
    ")[0], ax=ax[0])\n",
    "\n",
    "plt.colorbar(mesh.plot_image(\n",
    "    model[\"mur\"],\n",
    "    pcolor_opts={\"norm\":Normalize()},\n",
    "    mirror=True,\n",
    "    ax=ax[1]\n",
    ")[0], ax=ax[1])\n",
    "\n",
    "for a in ax: \n",
    "    a.set_xlim(np.r_[-1, 1]*5),\n",
    "    a.set_ylim(np.r_[-100, 20])\n",
    "\n",
    "plt.tight_layout()"
   ]
  },
  {
   "cell_type": "code",
   "execution_count": null,
   "id": "49aa089d-2538-4855-83fb-3da9fdd8c084",
   "metadata": {},
   "outputs": [],
   "source": [
    "def get_survey(rx_times = np.logspace(1e-5, 1e-2, 30)): \n",
    "    rx = tdem.receivers.PointElectricField(\n",
    "        locations=discretize.utils.ndgrid(rx_x, np.r_[0], np.r_[0]),\n",
    "        orientation=\"x\",\n",
    "        times=rx_times, \n",
    "    )\n",
    "    \n",
    "    src = tdem.sources.LineCurrent(\n",
    "        receiver_list = [rx],\n",
    "        location = np.array([\n",
    "            [0, 0, src_z.min()], \n",
    "            [0, 0, src_z.max()], \n",
    "        ])\n",
    "    )\n",
    "    \n",
    "    survey = tdem.Survey([src])"
   ]
  },
  {
   "cell_type": "code",
   "execution_count": null,
   "id": "a682f1cd-d856-485d-aa5b-400ed3ff4bcd",
   "metadata": {},
   "outputs": [],
   "source": [
    "time_steps = [\n",
    "    (1e-6, 20),\n",
    "    (3e-6, 20),\n",
    "    (1e-5, 20), (3e-5, 20), (1e-4, 20), (3e-4, 20)\n",
    "]"
   ]
  },
  {
   "cell_type": "code",
   "execution_count": null,
   "id": "50baceae-3853-49fc-bc45-185b26aafb80",
   "metadata": {},
   "outputs": [],
   "source": [
    "simulations = {}\n",
    "\n",
    "for n in n_cells: \n",
    "    mesh = meshes[n]\n",
    "    survey = get_survey()\n",
    "    simulations[n] = tdem.Simulation3DMagneticField(\n",
    "        mesh=mesh,\n",
    "        survey=survey, \n",
    "        time_steps=time_steps, \n",
    "        sigmaMap=maps.IdentityMap(mesh), \n",
    "        solver=Solver\n",
    "    )"
   ]
  },
  {
   "cell_type": "code",
   "execution_count": null,
   "id": "220cea6a-84e4-456a-b4b3-52b5960c15d5",
   "metadata": {},
   "outputs": [],
   "source": [
    "simulations[n].times"
   ]
  },
  {
   "cell_type": "code",
   "execution_count": null,
   "id": "b69c9d50-de02-4482-9e2f-bea409149909",
   "metadata": {},
   "outputs": [],
   "source": [
    "data_conductive = {}\n",
    "data_permeable = {}\n",
    "fields_conductive = {}\n",
    "fields_permeable = {}\n",
    "\n",
    "for n, sim in simulations.items():\n",
    "    print(f\"Starting {n} conductive ...\")\n",
    "    t0 = time.time()\n",
    "    fields_conductive[n] = sim.fields(models[n][\"sigma\"])\n",
    "    dpred_conductive[n] = sim.dpred(models[n][\"sigma\"], f=fields_conductive[n])\n",
    "    print(f\" ... done. Time: {time.time()-t0:1.1e}s\")\n",
    "\n",
    "    print(f\"Starting {n} conductive, permeable ...\")\n",
    "    t0 = time.time()\n",
    "    sim.mu = mu_0 * models[n][\"mur\"]\n",
    "    fields_permeable[n] = sim.fields(models[n][\"sigma\"])\n",
    "    dpred_permeable[n] = sim.dpred(models[n][\"sigma\"], f=fields_permeable[n])\n",
    "    print(f\" ... done. Time: {time.time()-t0:1.1e}s\")"
   ]
  },
  {
   "cell_type": "code",
   "execution_count": null,
   "id": "c9186be9-5b5b-446c-b788-c2e73b9d1589",
   "metadata": {},
   "outputs": [],
   "source": []
  }
 ],
 "metadata": {
  "kernelspec": {
   "display_name": "Python 3 (ipykernel)",
   "language": "python",
   "name": "python3"
  },
  "language_info": {
   "codemirror_mode": {
    "name": "ipython",
    "version": 3
   },
   "file_extension": ".py",
   "mimetype": "text/x-python",
   "name": "python",
   "nbconvert_exporter": "python",
   "pygments_lexer": "ipython3",
   "version": "3.11.11"
  }
 },
 "nbformat": 4,
 "nbformat_minor": 5
}
